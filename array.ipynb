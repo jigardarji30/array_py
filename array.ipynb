{
  "nbformat": 4,
  "nbformat_minor": 0,
  "metadata": {
    "colab": {
      "provenance": [],
      "authorship_tag": "ABX9TyMjVlu9T14Z4D/r8ikXH8JK",
      "include_colab_link": true
    },
    "kernelspec": {
      "name": "python3",
      "display_name": "Python 3"
    },
    "language_info": {
      "name": "python"
    }
  },
  "cells": [
    {
      "cell_type": "markdown",
      "metadata": {
        "id": "view-in-github",
        "colab_type": "text"
      },
      "source": [
        "<a href=\"https://colab.research.google.com/github/jigardarji30/array_py/blob/main/array.ipynb\" target=\"_parent\"><img src=\"https://colab.research.google.com/assets/colab-badge.svg\" alt=\"Open In Colab\"/></a>"
      ]
    },
    {
      "cell_type": "code",
      "execution_count": 9,
      "metadata": {
        "id": "Zc901Sh4BWl4"
      },
      "outputs": [],
      "source": [
        "import ctypes"
      ]
    },
    {
      "cell_type": "code",
      "source": [
        "class arrayList:\n",
        "\n",
        "  def __init__(self):\n",
        "    self.size = 1;\n",
        "    self.n = 0;\n",
        "    self.A = self.__make_array__(self.size)\n",
        "\n",
        "  def __make_array__(size,capacity):\n",
        "    return (capacity * ctypes.py_object)()\n",
        "\n",
        "  def __len__(self):\n",
        "    return self.n\n",
        "\n",
        "  def append(self,item):\n",
        "    if self.size == self.n:\n",
        "      self.__resize(self.size*2)\n",
        "\n",
        "    self.A[self.n] = item\n",
        "    self.n = self.n + 1\n",
        "\n",
        "  def __resize(self,new_capacity):\n",
        "    B = self.__make_array__(new_capacity)\n",
        "    self.size = new_capacity\n",
        "    # self.A = self.B\n",
        "    for i in range(self.n):\n",
        "      B[i] = self.A[i]\n",
        "    self.A = B\n",
        "\n",
        "  def __str__(self):\n",
        "    result = ''\n",
        "    for i in range(self.n):\n",
        "      result = result + str(self.A[i]) + ','\n",
        "    return '['+result[:-1]+']'\n",
        "\n",
        "  def __getitem__(self,index):\n",
        "    if 0 <= index < self.n:\n",
        "      return self.A[index]\n",
        "    return 'index not found';\n",
        "\n",
        "  def pop(self):\n",
        "    if self.n == 0:\n",
        "      return \"[]\"\n",
        "    print(self.A[self.n - 1])\n",
        "    self.n = self.n - 1;\n",
        "    return self.n\n",
        "\n",
        "  def clear(self):\n",
        "    if self.n == 0:\n",
        "        return \"[]\"\n",
        "    self.n = 0\n",
        "    self.size = 1\n",
        "\n",
        "  def find(self,item):\n",
        "    for i in range(self.n):\n",
        "      if self.A[i] == item:\n",
        "        return i\n",
        "\n",
        "    return \"not found\"\n",
        "\n",
        "  def insert(self,pos,item):\n",
        "    if self.n == self.size:\n",
        "       self.__resize(self.size*2)\n",
        "\n",
        "    for i in range(self.n,pos,-1):\n",
        "      self.A[i] = self.A[i-1]\n",
        "\n",
        "    self.A[pos] = item\n",
        "    self.n = self.n + 1\n",
        "\n",
        "  def __delitem__(self,pos):\n",
        "    if 0 <= pos < self.n:\n",
        "      for i in range(pos,self.n-1):\n",
        "        self.A[i] = self.A[i+1]\n",
        "\n",
        "      self.n = self.n - 1\n",
        "\n",
        "  def remove(self,item):\n",
        "    pos = self.find(item)\n",
        "    if type(pos) == int:\n",
        "        self.__delitem__(pos)\n",
        "    else:\n",
        "      return pos\n",
        "\n",
        "  def sort(self):\n",
        "    for i in range(self.n):\n",
        "      min = i;\n",
        "      for j in range(self.n):\n",
        "        if self.A[j] > self.A[min]:\n",
        "          min = j\n",
        "      self.A[i], self.A[min] = self.A[min], self.A[i]\n",
        "    return self.__str__()\n",
        "\n",
        "  def min(self):\n",
        "    min = 0;\n",
        "    for i in range(self.n):\n",
        "      for j in range(self.n):\n",
        "        if self.A[i] < self.A[min]:\n",
        "          min = i\n",
        "    return self.A[min]\n",
        "\n",
        "  def max(self):\n",
        "    max = 0;\n",
        "    for i in range(self.n):\n",
        "      for j in range(self.n):\n",
        "        if self.A[i] > self.A[max]:\n",
        "          max = i\n",
        "    return self.A[max]\n",
        "\n"
      ],
      "metadata": {
        "id": "BkVBMglaEZjj"
      },
      "execution_count": 302,
      "outputs": []
    },
    {
      "cell_type": "code",
      "source": [
        "L = arrayList()"
      ],
      "metadata": {
        "id": "ipdtx2ZgEiyc"
      },
      "execution_count": 303,
      "outputs": []
    },
    {
      "cell_type": "code",
      "source": [
        "L.append('4');\n",
        "L.append('6');\n",
        "L.append('5');\n",
        "L.append('3');"
      ],
      "metadata": {
        "id": "OCu4gBfdEzHo"
      },
      "execution_count": 304,
      "outputs": []
    },
    {
      "cell_type": "code",
      "source": [
        "print(L)"
      ],
      "metadata": {
        "colab": {
          "base_uri": "https://localhost:8080/"
        },
        "collapsed": true,
        "id": "AlmOc-csI3R7",
        "outputId": "7d7a7220-f93c-4074-dcfe-1e47ec482e4e"
      },
      "execution_count": 287,
      "outputs": [
        {
          "output_type": "stream",
          "name": "stdout",
          "text": [
            "[4,6,5,3]\n"
          ]
        }
      ]
    },
    {
      "cell_type": "code",
      "source": [
        "len(L)"
      ],
      "metadata": {
        "colab": {
          "base_uri": "https://localhost:8080/"
        },
        "id": "YVtoIOrsIf5W",
        "outputId": "24be76bf-4d37-41a2-bcf0-0773af88fbe2"
      },
      "execution_count": 205,
      "outputs": [
        {
          "output_type": "execute_result",
          "data": {
            "text/plain": [
              "5"
            ]
          },
          "metadata": {},
          "execution_count": 205
        }
      ]
    },
    {
      "cell_type": "code",
      "source": [
        "L[1]"
      ],
      "metadata": {
        "colab": {
          "base_uri": "https://localhost:8080/",
          "height": 35
        },
        "id": "OOnMJqhXLbQP",
        "outputId": "154a88df-c8a4-4058-8068-f18c27a9366f"
      },
      "execution_count": 106,
      "outputs": [
        {
          "output_type": "execute_result",
          "data": {
            "text/plain": [
              "'2'"
            ],
            "application/vnd.google.colaboratory.intrinsic+json": {
              "type": "string"
            }
          },
          "metadata": {},
          "execution_count": 106
        }
      ]
    },
    {
      "cell_type": "code",
      "source": [
        "L.pop()"
      ],
      "metadata": {
        "colab": {
          "base_uri": "https://localhost:8080/"
        },
        "id": "iE9MZxM2MHTu",
        "outputId": "5fb28ddc-5636-4204-9bee-1e0b6f8577b1"
      },
      "execution_count": 142,
      "outputs": [
        {
          "output_type": "stream",
          "name": "stdout",
          "text": [
            "3\n"
          ]
        },
        {
          "output_type": "execute_result",
          "data": {
            "text/plain": [
              "2"
            ]
          },
          "metadata": {},
          "execution_count": 142
        }
      ]
    },
    {
      "cell_type": "code",
      "source": [
        "L.clear()"
      ],
      "metadata": {
        "id": "qa2ya97VNo62"
      },
      "execution_count": 153,
      "outputs": []
    },
    {
      "cell_type": "code",
      "source": [
        "L.find(1)"
      ],
      "metadata": {
        "colab": {
          "base_uri": "https://localhost:8080/",
          "height": 35
        },
        "id": "nz9fBq6MOV9F",
        "outputId": "3c7dc7b4-0c99-4a4e-f18b-d183961bdff1"
      },
      "execution_count": 187,
      "outputs": [
        {
          "output_type": "execute_result",
          "data": {
            "text/plain": [
              "'not found'"
            ],
            "application/vnd.google.colaboratory.intrinsic+json": {
              "type": "string"
            }
          },
          "metadata": {},
          "execution_count": 187
        }
      ]
    },
    {
      "cell_type": "code",
      "source": [
        "L.insert(1,1)"
      ],
      "metadata": {
        "id": "XpJdw04zRXRE"
      },
      "execution_count": 218,
      "outputs": []
    },
    {
      "cell_type": "code",
      "source": [
        "del L[1]"
      ],
      "metadata": {
        "id": "atJOCJxZTHla"
      },
      "execution_count": 224,
      "outputs": []
    },
    {
      "cell_type": "code",
      "source": [
        "L.remove(2)"
      ],
      "metadata": {
        "colab": {
          "base_uri": "https://localhost:8080/",
          "height": 35
        },
        "id": "TqAoONcQUcMi",
        "outputId": "3efc265e-9e22-4796-9339-4e45a51b3a34"
      },
      "execution_count": 234,
      "outputs": [
        {
          "output_type": "execute_result",
          "data": {
            "text/plain": [
              "'not found'"
            ],
            "application/vnd.google.colaboratory.intrinsic+json": {
              "type": "string"
            }
          },
          "metadata": {},
          "execution_count": 234
        }
      ]
    },
    {
      "cell_type": "code",
      "source": [
        "L.min()"
      ],
      "metadata": {
        "colab": {
          "base_uri": "https://localhost:8080/",
          "height": 35
        },
        "id": "NgdykpQ_aWgY",
        "outputId": "c7d79d42-4ef7-4611-e0dd-51d64c237200"
      },
      "execution_count": 252,
      "outputs": [
        {
          "output_type": "execute_result",
          "data": {
            "text/plain": [
              "'3'"
            ],
            "application/vnd.google.colaboratory.intrinsic+json": {
              "type": "string"
            }
          },
          "metadata": {},
          "execution_count": 252
        }
      ]
    },
    {
      "cell_type": "code",
      "source": [
        "L.max()"
      ],
      "metadata": {
        "colab": {
          "base_uri": "https://localhost:8080/",
          "height": 35
        },
        "id": "BMnHG1ERa6df",
        "outputId": "2c8c6043-3129-47e9-d52b-18d047ceb08e"
      },
      "execution_count": 264,
      "outputs": [
        {
          "output_type": "execute_result",
          "data": {
            "text/plain": [
              "'6'"
            ],
            "application/vnd.google.colaboratory.intrinsic+json": {
              "type": "string"
            }
          },
          "metadata": {},
          "execution_count": 264
        }
      ]
    },
    {
      "cell_type": "code",
      "source": [
        "L.sort()"
      ],
      "metadata": {
        "colab": {
          "base_uri": "https://localhost:8080/",
          "height": 35
        },
        "id": "TXG3PuTEcQA-",
        "outputId": "d3bd039d-ede9-48de-d4da-50db4beefc11"
      },
      "execution_count": 307,
      "outputs": [
        {
          "output_type": "execute_result",
          "data": {
            "text/plain": [
              "'[3,4,5,6]'"
            ],
            "application/vnd.google.colaboratory.intrinsic+json": {
              "type": "string"
            }
          },
          "metadata": {},
          "execution_count": 307
        }
      ]
    }
  ]
}